{
  "nbformat": 4,
  "nbformat_minor": 0,
  "metadata": {
    "colab": {
      "provenance": []
    },
    "kernelspec": {
      "name": "python3",
      "display_name": "Python 3"
    },
    "language_info": {
      "name": "python"
    }
  },
  "cells": [
    {
      "cell_type": "code",
      "execution_count": null,
      "metadata": {
        "colab": {
          "base_uri": "https://localhost:8080/"
        },
        "id": "E0tYKKP_6waE",
        "outputId": "0a0e81be-3694-410b-959d-1e62a0b5c1de"
      },
      "outputs": [
        {
          "output_type": "stream",
          "name": "stdout",
          "text": [
            "Colab only includes TensorFlow 2.x; %tensorflow_version has no effect.\n",
            "Downloading data from https://storage.googleapis.com/tensorflow/tf-keras-datasets/mnist.npz\n",
            "11490434/11490434 [==============================] - 0s 0us/step\n"
          ]
        }
      ],
      "source": [
        "%tensorflow_version 2.x\n",
        "# for keras tensorflow 2.x is required\n",
        "\n",
        "#program to identify  digits (0 to 9) in image\n",
        "import tensorflow as tf\n",
        "(x_train, y_train), (x_test, y_test) = tf.keras.datasets.mnist.load_data()  # loading mnist dataset"
      ]
    },
    {
      "cell_type": "code",
      "source": [
        "x_train.shape  #shape of input data (28,28)    # x- input  y- output"
      ],
      "metadata": {
        "id": "Brg65OmS7911",
        "colab": {
          "base_uri": "https://localhost:8080/"
        },
        "outputId": "696ee9b4-80b3-4e10-fe5c-590a6ab68c3f"
      },
      "execution_count": null,
      "outputs": [
        {
          "output_type": "execute_result",
          "data": {
            "text/plain": [
              "(60000, 28, 28)"
            ]
          },
          "metadata": {},
          "execution_count": 6
        }
      ]
    },
    {
      "cell_type": "code",
      "source": [
        "y_train.shape"
      ],
      "metadata": {
        "colab": {
          "base_uri": "https://localhost:8080/"
        },
        "id": "uTSnOumCCtBz",
        "outputId": "ca66cf17-60b0-419c-8618-3e893e30c9ed"
      },
      "execution_count": null,
      "outputs": [
        {
          "output_type": "execute_result",
          "data": {
            "text/plain": [
              "(60000,)"
            ]
          },
          "metadata": {},
          "execution_count": 7
        }
      ]
    },
    {
      "cell_type": "markdown",
      "source": [
        "# Model with no hidden layers"
      ],
      "metadata": {
        "id": "DkESUjtnFnbE"
      }
    },
    {
      "cell_type": "code",
      "source": [
        "model = tf.keras.models.Sequential(\n",
        "    [\n",
        "        tf.keras.layers.Input(shape=(28,28)),\n",
        "        tf.keras.layers.Flatten(),  #Flattening 2D data into 1D array for input to Fully Connected Layer (i.e. the Neural Network after Pooling)\n",
        "        tf.keras.layers.BatchNormalization(),\n",
        "\n",
        "        # fully connected layer (here no hidden layer in FCL, only input and output layer, output layer as below)\n",
        "        tf.keras.layers.Dense(10, activation=\"softmax\")\n",
        "    ]\n",
        ")"
      ],
      "metadata": {
        "id": "EmfLvkLkCwav"
      },
      "execution_count": null,
      "outputs": []
    },
    {
      "cell_type": "code",
      "source": [
        "model.compile(optimizer=\"sgd\", loss=\"sparse_categorical_crossentropy\", metrics=['accuracy'])"
      ],
      "metadata": {
        "id": "yzYcYXhJCwXJ"
      },
      "execution_count": null,
      "outputs": []
    },
    {
      "cell_type": "code",
      "source": [
        "model.fit(x=x_train, y=y_train,  epochs=2)"
      ],
      "metadata": {
        "colab": {
          "base_uri": "https://localhost:8080/"
        },
        "id": "E2hkC1ZlE8OE",
        "outputId": "fc57f334-f8c8-4809-f6ef-d43e304a611c"
      },
      "execution_count": null,
      "outputs": [
        {
          "output_type": "stream",
          "name": "stdout",
          "text": [
            "Epoch 1/2\n",
            "1875/1875 [==============================] - 3s 1ms/step - loss: 0.4886 - accuracy: 0.8553\n",
            "Epoch 2/2\n",
            "1875/1875 [==============================] - 2s 1ms/step - loss: 0.3562 - accuracy: 0.8976\n"
          ]
        },
        {
          "output_type": "execute_result",
          "data": {
            "text/plain": [
              "<keras.src.callbacks.History at 0x7cd666119060>"
            ]
          },
          "metadata": {},
          "execution_count": 11
        }
      ]
    },
    {
      "cell_type": "code",
      "source": [
        "model.evaluate(x=x_test, y=y_test)"
      ],
      "metadata": {
        "colab": {
          "base_uri": "https://localhost:8080/"
        },
        "id": "JyHc_seHFUNd",
        "outputId": "7159a967-e6f8-4286-fcac-ffe64795f065"
      },
      "execution_count": null,
      "outputs": [
        {
          "output_type": "stream",
          "name": "stdout",
          "text": [
            "313/313 [==============================] - 0s 989us/step - loss: 0.4318 - accuracy: 0.9082\n"
          ]
        },
        {
          "output_type": "execute_result",
          "data": {
            "text/plain": [
              "[0.43184468150138855, 0.9082000255584717]"
            ]
          },
          "metadata": {},
          "execution_count": 12
        }
      ]
    },
    {
      "cell_type": "markdown",
      "source": [
        "# Model with a hidden layer"
      ],
      "metadata": {
        "id": "j0ORlm9qF1-T"
      }
    },
    {
      "cell_type": "code",
      "source": [
        "model = tf.keras.models.Sequential(\n",
        "    [\n",
        "        tf.keras.layers.Input(shape=(28,28)),\n",
        "        tf.keras.layers.Flatten(),\n",
        "        tf.keras.layers.BatchNormalization(),\n",
        "\n",
        "        # Fully Connected Layer\n",
        "        tf.keras.layers.Dense(100, activation=\"relu\"),  #hidden layer 100 neurons\n",
        "\n",
        "        tf.keras.layers.Dense(10, activation=\"softmax\") #output layer 10 neuron output for 10 digits (0 to 9)\n",
        "    ]\n",
        ")\n",
        "\n",
        "\n",
        "model.compile(optimizer=\"sgd\", loss=\"sparse_categorical_crossentropy\", metrics=['accuracy'])\n",
        "model.fit(x=x_train , y=y_train, epochs=2)\n",
        "model.evaluate(x=x_test, y=y_test)"
      ],
      "metadata": {
        "colab": {
          "base_uri": "https://localhost:8080/"
        },
        "id": "Fn7BGJfPFdf0",
        "outputId": "3127df0c-04df-4c62-ca34-a133b2be5c5a"
      },
      "execution_count": null,
      "outputs": [
        {
          "output_type": "stream",
          "name": "stdout",
          "text": [
            "Epoch 1/2\n",
            "1875/1875 [==============================] - 3s 2ms/step - loss: 0.4453 - accuracy: 0.8723\n",
            "Epoch 2/2\n",
            "1875/1875 [==============================] - 3s 2ms/step - loss: 0.2384 - accuracy: 0.9290\n",
            "313/313 [==============================] - 0s 1ms/step - loss: 0.3198 - accuracy: 0.9391\n"
          ]
        },
        {
          "output_type": "execute_result",
          "data": {
            "text/plain": [
              "[0.31978651881217957, 0.9391000270843506]"
            ]
          },
          "metadata": {},
          "execution_count": 13
        }
      ]
    },
    {
      "cell_type": "code",
      "source": [
        "from IPython.display import HTML\n",
        "youtube_video_id = 'Neural Network Tutorial'\n",
        "html_code = f'<iframe width=\"1049\" height=\"590\" src=\"https://www.youtube.com/embed/Aut32pR5PQA\" title=\"Deep Learning Cars\" frameborder=\"0\" allow=\"accelerometer; autoplay; clipboard-write; encrypted-media; gyroscope; picture-in-picture; web-share\" allowfullscreen></iframe>'\n",
        "display(HTML(html_code))\n"
      ],
      "metadata": {
        "colab": {
          "base_uri": "https://localhost:8080/",
          "height": 646
        },
        "id": "uGHTa24nH89S",
        "outputId": "955b7cc1-a9c8-4da6-dc7c-423183b8d81b"
      },
      "execution_count": null,
      "outputs": [
        {
          "output_type": "stream",
          "name": "stderr",
          "text": [
            "/usr/local/lib/python3.10/dist-packages/IPython/core/display.py:724: UserWarning: Consider using IPython.display.IFrame instead\n",
            "  warnings.warn(\"Consider using IPython.display.IFrame instead\")\n"
          ]
        },
        {
          "output_type": "display_data",
          "data": {
            "text/plain": [
              "<IPython.core.display.HTML object>"
            ],
            "text/html": [
              "<iframe width=\"1049\" height=\"590\" src=\"https://www.youtube.com/embed/Aut32pR5PQA\" title=\"Deep Learning Cars\" frameborder=\"0\" allow=\"accelerometer; autoplay; clipboard-write; encrypted-media; gyroscope; picture-in-picture; web-share\" allowfullscreen></iframe>"
            ]
          },
          "metadata": {}
        }
      ]
    },
    {
      "cell_type": "markdown",
      "source": [
        "References:\n",
        "1. Module 4 ppt AI&DS II Sem 7 (start from slide 23)  # for CNN Architecture\n",
        "\n",
        "2. https://www.upgrad.com/blog/basic-cnn-architecture/  # for CNN Architecture\n",
        "\n",
        "1. https://www.youtube.com/watch?v=aircAruvnKk # for fully connected layer  (start from 2:47)\n"
      ],
      "metadata": {
        "id": "TUtA_NOsZgHm"
      }
    }
  ]
}